{
  "nbformat": 4,
  "nbformat_minor": 0,
  "metadata": {
    "colab": {
      "name": "Compound Interest Calculator .ipynb",
      "provenance": [],
      "collapsed_sections": [],
      "authorship_tag": "ABX9TyNatHJ/MDSvGISC6tQVoOSR",
      "include_colab_link": true
    },
    "kernelspec": {
      "name": "python3",
      "display_name": "Python 3"
    },
    "language_info": {
      "name": "python"
    }
  },
  "cells": [
    {
      "cell_type": "markdown",
      "metadata": {
        "id": "view-in-github",
        "colab_type": "text"
      },
      "source": [
        "<a href=\"https://colab.research.google.com/github/amr9410/PythonDataWrangling/blob/master/Compound_Interest_Calculator_.ipynb\" target=\"_parent\"><img src=\"https://colab.research.google.com/assets/colab-badge.svg\" alt=\"Open In Colab\"/></a>"
      ]
    },
    {
      "cell_type": "markdown",
      "source": [
        ""
      ],
      "metadata": {
        "id": "_m-gA9oNWEnA"
      }
    },
    {
      "cell_type": "markdown",
      "source": [
        "**Importing needed Python packages** "
      ],
      "metadata": {
        "id": "MOUQKkrWo41K"
      }
    },
    {
      "cell_type": "code",
      "execution_count": null,
      "metadata": {
        "id": "T5vTmciJT-y5"
      },
      "outputs": [],
      "source": [
        "import pandas as pd\n",
        "import numpy as np"
      ]
    },
    {
      "cell_type": "markdown",
      "source": [
        "**The Calculation Function**"
      ],
      "metadata": {
        "id": "Dp4nE9PkpnbU"
      }
    },
    {
      "cell_type": "code",
      "source": [
        "def Compound_Interest_Calculator(p_principle, i_interest_rate, t_period):\n",
        "  # Calculates compound interest\n",
        "  FV = np.round(p_principle * (pow((1 + i_interest_rate / 100),\\n\n",
        "                                   t_period)), decimals=2)\n",
        "  compound_interest = FV - p_principle\n",
        "  print(\"For a Principle of {0} $ \\nThe Futur Value is = {1} $\\nand The Compound Interest is = {2} $\"\\n\n",
        "        .format(p_principle, FV, compound_interest))\n",
        "  "
      ],
      "metadata": {
        "id": "S4mmGFcUUGUk"
      },
      "execution_count": null,
      "outputs": []
    },
    {
      "cell_type": "markdown",
      "source": [
        "## The Investment Calculation"
      ],
      "metadata": {
        "id": "amAlWFRup2D_"
      }
    },
    {
      "cell_type": "code",
      "source": [
        "investment =Compound_Interest_Calculator(10000, 20, 20)"
      ],
      "metadata": {
        "colab": {
          "base_uri": "https://localhost:8080/"
        },
        "id": "UH7MKT5TgQte",
        "outputId": "27ac30d0-2f4f-4a7d-bad8-4dc7fc827a47"
      },
      "execution_count": null,
      "outputs": [
        {
          "output_type": "stream",
          "name": "stdout",
          "text": [
            "For a Principle of 10000 $ \n",
            "The Futur Value is = 383376.0 $\n",
            "and The Compound Interest is = 373376.0 $\n"
          ]
        }
      ]
    }
  ]
}