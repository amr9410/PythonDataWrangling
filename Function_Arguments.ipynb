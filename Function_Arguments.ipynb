{
  "nbformat": 4,
  "nbformat_minor": 0,
  "metadata": {
    "colab": {
      "name": "Function Arguments.ipynb",
      "provenance": [],
      "authorship_tag": "ABX9TyMI5QgNlNTRWigoATUUm/EF",
      "include_colab_link": true
    },
    "kernelspec": {
      "name": "python3",
      "display_name": "Python 3"
    },
    "language_info": {
      "name": "python"
    }
  },
  "cells": [
    {
      "cell_type": "markdown",
      "metadata": {
        "id": "view-in-github",
        "colab_type": "text"
      },
      "source": [
        "<a href=\"https://colab.research.google.com/github/amr9410/PythonDataWrangling/blob/master/Function_Arguments.ipynb\" target=\"_parent\"><img src=\"https://colab.research.google.com/assets/colab-badge.svg\" alt=\"Open In Colab\"/></a>"
      ]
    },
    {
      "cell_type": "markdown",
      "source": [
        "# **1) Positional Arguments**\n",
        "\n",
        "> The arguments should be passed in the order  in which they are defined.\n",
        "\n"
      ],
      "metadata": {
        "id": "zH66mCwnsQtn"
      }
    },
    {
      "cell_type": "code",
      "execution_count": null,
      "metadata": {
        "id": "EoznRjDdo9ZY"
      },
      "outputs": [],
      "source": [
        "def func(name, job):\n",
        "    print(name, 'is a', job)\n",
        "\n",
        "func('Bob', 'developer')\n",
        "# Prints Bob is a developer\n"
      ]
    },
    {
      "cell_type": "markdown",
      "source": [
        "# **2) Keyword Arguments**\n",
        "\n",
        "> The arguments can be passed using the names of their corresponding parameters. \n",
        "\n"
      ],
      "metadata": {
        "id": "3iAZd5o5tDKw"
      }
    },
    {
      "cell_type": "code",
      "source": [
        "# Keyword arguments can be put in any order\n",
        "def func(name, job):\n",
        "    print(name, 'is a', job)\n",
        "func(name='Bob', job='developer')\n",
        "# Prints Bob is a developer\n",
        "func(job='developer', name='Bob')\n",
        "# Prints Bob is a developer"
      ],
      "metadata": {
        "id": "sGQcDG8xwOWM"
      },
      "execution_count": null,
      "outputs": []
    },
    {
      "cell_type": "markdown",
      "source": [
        "# **3) Default Arguments**\n",
        "\n",
        "\n",
        "> A default values for arguments can be specified when defining a function, The default value is used if the function is called without a corresponding argument.\n",
        "\n",
        "\n"
      ],
      "metadata": {
        "id": "8XY_6Nt8tNUM"
      }
    },
    {
      "cell_type": "code",
      "source": [
        "# Set default value 'developer' to a 'job' parameter\n",
        "def func(name, job='developer'):\n",
        "    print(name, 'is a', job)\n",
        "func('Bob', 'manager')\n",
        "# Prints Bob is a manager\n",
        "func('Bob')\n",
        "# Prints Bob is a developer"
      ],
      "metadata": {
        "id": "dUiSU5xFwPLt"
      },
      "execution_count": null,
      "outputs": []
    },
    {
      "cell_type": "markdown",
      "source": [
        "# **4) Variable Length Arguments**(*args )\n",
        "\n",
        "> Variable length arguments are useful when we want to create functions that take unlimited number of **positional** arguments\n",
        "\n"
      ],
      "metadata": {
        "id": "wJZfzvUotP9s"
      }
    },
    {
      "cell_type": "code",
      "source": [
        "def print_arguments(*args):\n",
        "    print(args)\n",
        "print_arguments(1, 54, 60, 8, 98, 12)\n",
        "# Prints (1, 54, 60, 8, 98, 12)"
      ],
      "metadata": {
        "id": "SkAKVTT4wP9L"
      },
      "execution_count": null,
      "outputs": []
    },
    {
      "cell_type": "markdown",
      "source": [
        "# **5) Variable Length Arguments** (**kwargs)\n",
        "\n",
        "> Variable length arguments are useful when you want to create functions that take unlimited number of **keywords** arguments\n",
        "\n"
      ],
      "metadata": {
        "id": "UT05-MWBt-nR"
      }
    },
    {
      "cell_type": "code",
      "source": [
        "def print_arguments(**kwargs):\n",
        "    print(kwargs)\n",
        "print_arguments(name='Bob', age=25, job='dev')\n",
        "# Prints {'name': 'Bob', 'age': 25, 'job': 'dev'}"
      ],
      "metadata": {
        "id": "E6QZPG1HpEJ-"
      },
      "execution_count": null,
      "outputs": []
    }
  ]
}